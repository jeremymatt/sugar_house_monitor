{
 "cells": [
  {
   "cell_type": "code",
   "execution_count": 2,
   "metadata": {},
   "outputs": [],
   "source": [
    "import numpy as np"
   ]
  },
  {
   "cell_type": "code",
   "execution_count": 3,
   "metadata": {},
   "outputs": [],
   "source": [
    "length = 191.5\n",
    "width = 48\n",
    "height = 40.75\n",
    "radius = 16\n",
    "depth = 2"
   ]
  },
  {
   "cell_type": "code",
   "execution_count": 7,
   "metadata": {},
   "outputs": [],
   "source": [
    "area_center_rectangle = depth*(width-2*radius)\n",
    "area_of_circle = np.pi*radius**2"
   ]
  },
  {
   "cell_type": "code",
   "execution_count": 12,
   "metadata": {},
   "outputs": [
    {
     "name": "stdout",
     "output_type": "stream",
     "text": [
      "The area of the triangle is 108.44353369380768\n"
     ]
    }
   ],
   "source": [
    "triangle_base = np.sqrt(radius**2 - (radius-depth)**2)\n",
    "area_of_triangle = (radius-depth)*triangle_base\n",
    "print(\"The area of the triangle is {}\".format(area_of_triangle))"
   ]
  },
  {
   "cell_type": "code",
   "execution_count": 26,
   "metadata": {},
   "outputs": [
    {
     "name": "stdout",
     "output_type": "stream",
     "text": [
      "The sap volume is 43.878168631196345gallons\n"
     ]
    }
   ],
   "source": [
    "fishy = np.arcsin(triangle_base/radius)\n",
    "area_of_icecream_cone = (fishy*2/(2*np.pi))*area_of_circle\n",
    "sap_area = area_of_icecream_cone-area_of_triangle+area_center_rectangle\n",
    "sap_volume = sap_area*length\n",
    "sap_gallons = sap_volume/231\n",
    "print(\"The sap volume is {}gallons\".format(sap_gallons))"
   ]
  },
  {
   "cell_type": "code",
   "execution_count": 32,
   "metadata": {},
   "outputs": [],
   "source": [
    "def calc_sap_gallons_in_tank(depth,width,radius,length):\n",
    "    area_center_rectangle = depth*(width-2*radius)\n",
    "    area_of_circle = np.pi*radius**2\n",
    "    if (depth<radius):\n",
    "        triangle_base = np.sqrt(radius**2 - (radius-depth)**2)\n",
    "        area_of_triangle = (radius-depth)*triangle_base\n",
    "        fishy = np.arcsin(triangle_base/radius)\n",
    "        area_of_icecream_cone = (fishy*2/(2*np.pi))*area_of_circle\n",
    "        area_of_edges = area_of_icecream_cone-area_of_triangle\n",
    "    else:\n",
    "        area_of_edges = area_of_circle/2+(2*radius)*(depth-radius)\n",
    "\n",
    "\n",
    "    sap_area = area_of_edges+area_center_rectangle\n",
    "    sap_volume = sap_area*length\n",
    "    sap_gallons = np.round(sap_volume/231,2)\n",
    "\n",
    "    return sap_gallons\n"
   ]
  },
  {
   "cell_type": "code",
   "execution_count": 33,
   "metadata": {},
   "outputs": [
    {
     "name": "stdout",
     "output_type": "stream",
     "text": [
      "gals vals: 1898.52\n"
     ]
    }
   ],
   "source": [
    "depth = 50\n",
    "length = 191.5\n",
    "width = 48\n",
    "height = 40.75\n",
    "radius = 16\n",
    "gals = calc_sap_gallons_in_tank(depth,width,radius,length)\n",
    "print(\"gals vals: {}\".format(gals))"
   ]
  },
  {
   "cell_type": "code",
   "execution_count": 20,
   "metadata": {},
   "outputs": [
    {
     "data": {
      "text/plain": [
       "0.5053605102841573"
      ]
     },
     "execution_count": 20,
     "metadata": {},
     "output_type": "execute_result"
    }
   ],
   "source": [
    "length = 191.5\n",
    "width = 48\n",
    "height = 40.75\n",
    "radius = 16"
   ]
  },
  {
   "cell_type": "code",
   "execution_count": null,
   "metadata": {},
   "outputs": [],
   "source": []
  }
 ],
 "metadata": {
  "kernelspec": {
   "display_name": "shadow",
   "language": "python",
   "name": "python3"
  },
  "language_info": {
   "codemirror_mode": {
    "name": "ipython",
    "version": 3
   },
   "file_extension": ".py",
   "mimetype": "text/x-python",
   "name": "python",
   "nbconvert_exporter": "python",
   "pygments_lexer": "ipython3",
   "version": "3.10.12"
  }
 },
 "nbformat": 4,
 "nbformat_minor": 2
}
